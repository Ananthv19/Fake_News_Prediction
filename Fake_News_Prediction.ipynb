{
  "nbformat": 4,
  "nbformat_minor": 0,
  "metadata": {
    "colab": {
      "name": "Fake_News_Prediction.ipynb",
      "provenance": []
    },
    "kernelspec": {
      "name": "python3",
      "display_name": "Python 3"
    },
    "language_info": {
      "name": "python"
    }
  },
  "cells": [
    {
      "cell_type": "markdown",
      "metadata": {
        "id": "57SGSdKkMDH2"
      },
      "source": [
        "About the Dataset:\n",
        "\n",
        "1. id: unique id for a news article.\n",
        "2. title: The title of a news article.\n",
        "3. author: author of the news article.\n",
        "4. text: the text of the article; could be incomplete.\n",
        "5. label: a label that marks whether the news article is real or fake:\n",
        "\n",
        "\n",
        "\n",
        "      0: Real news\n",
        "      1: Fake news\n",
        "      \n"
      ]
    },
    {
      "cell_type": "code",
      "metadata": {
        "id": "b4-kW9VJLWR5"
      },
      "source": [
        "import numpy as np\n",
        "import pandas as pd\n",
        "import re  # useful for searching text in document.\n",
        "from nltk.corpus import stopwords\n",
        "from nltk.stem.porter import PorterStemmer\n",
        "from sklearn.feature_extraction.text import TfidfVectorizer\n",
        "from sklearn.model_selection import train_test_split\n",
        "from sklearn.linear_model import LogisticRegression\n",
        "from sklearn.metrics import accuracy_score"
      ],
      "execution_count": 1,
      "outputs": []
    },
    {
      "cell_type": "code",
      "metadata": {
        "id": "DJ-1ybmUQx58"
      },
      "source": [
        ""
      ],
      "execution_count": null,
      "outputs": []
    }
  ]
}